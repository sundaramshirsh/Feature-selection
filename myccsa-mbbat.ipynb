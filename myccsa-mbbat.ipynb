{
 "cells": [
  {
   "cell_type": "code",
   "execution_count": 1,
   "metadata": {
    "collapsed": true,
    "scrolled": true
   },
   "outputs": [],
   "source": [
    "import random,math,copy,time\n",
    "\n",
    "import numpy as np\n",
    "import pandas as pd\n",
    "df=pd.read_csv(\"/home/ds/Downloads/WOA dataset (copy).csv\")\n",
    "\n",
    "features001=['Resource', 'Time', 'User Effort', 'Economic Costs', 'Likeability', 'Convenience', 'Aesthetics' ,'Task accomplishment', \n",
    "'Operability','Extensibility','Reusability', 'Scalability' ,'Approachability' ,'Utility', 'Faithfulness', 'Cultural universality',\n",
    "'Useful user task O/p' , 'Learnability', 'Memorability' ,'Comprehensibility' ,'Consistency' ,'Safety', 'Error Tolerance' ]\n",
    "\n",
    "features=['0', '1', '2', '3', '4', '5']"
   ]
  },
  {
   "cell_type": "code",
   "execution_count": 2,
   "metadata": {
    "collapsed": true
   },
   "outputs": [],
   "source": [
    "m=23  # Problem dimension (number of decision variables\n",
    "d=6   # Flock (population) size\n",
    "Ap=0.1  # Awareness probability\n",
    "fl=2   # Flight length (fl)\n",
    "lt=6.0              # Lt is the total number of features\n",
    "\n",
    "count,total_no_of1,index_not_selected,selected_features_temp = 0, 0, [],[]\n",
    "df2=pd.DataFrame(np.random.randint(2,size=(m,d)),columns=features)\n"
   ]
  },
  {
   "cell_type": "code",
   "execution_count": 3,
   "metadata": {
    "collapsed": true
   },
   "outputs": [],
   "source": [
    "def init():   #initialization function\n",
    "#    df2=pd.DataFrame(np.zeros((m,d),dtype='int'),columns=features)\n",
    "#    df2=pd.DataFrame(np.random.randint(2,size=(m,d)),columns=features)\n",
    "    return df2"
   ]
  },
  {
   "cell_type": "code",
   "execution_count": 21,
   "metadata": {},
   "outputs": [
    {
     "data": {
      "text/plain": [
       "[0, 1, 2, 3, 4, 5, 6, 7, 8, 11, 13, 14, 15, 17, 18, 19, 21]"
      ]
     },
     "execution_count": 21,
     "metadata": {},
     "output_type": "execute_result"
    }
   ],
   "source": [
    "# this defines the fitness of each crow by calculating their accuracy and no features selected using the below formula\n",
    "def fitness(df2):      # fitness function whose 1 parameter takes the crows and their position as input\n",
    "    for j in list(features):\n",
    "        count,total_no_of1,index_not_selected = 0, 0, []\n",
    "        for i in range(m): \n",
    "            if df2.loc[i,j]==1:\n",
    "                total_no_of1=total_no_of1+1\n",
    "                if i not in selected_features_temp:\n",
    "                    count=count+1\n",
    "                    index_not_selected.append(i)\n",
    "        while count/total_no_of1>0.20:\n",
    "            index = random.choice(index_not_selected)\n",
    "            index_not_selected.remove(index)\n",
    "            count=count-1\n",
    "            selected_features_temp.append(index)\n",
    "    selected_features_temp.sort()\n",
    "    return selected_features_temp\n",
    "fitness(df)"
   ]
  },
  {
   "cell_type": "code",
   "execution_count": 22,
   "metadata": {
    "scrolled": false
   },
   "outputs": [
    {
     "name": "stdout",
     "output_type": "stream",
     "text": [
      "\n",
      "\n",
      "0\n",
      "\t list of Selected Features [1, 3, 7, 9, 11, 15, 16, 17, 20, 21]\n",
      "\t list of Selected Features later [0, 1, 3, 7, 9, 11, 12, 14, 15, 16, 17, 19, 20, 21]\n",
      "\t Length of selected features 14\n",
      "\n",
      "\n",
      "1\n",
      "\t list of Selected Features [1, 3, 4, 6, 7, 8, 9, 11, 12, 14, 15, 16, 17, 19, 20, 21]\n",
      "\t list of Selected Features later [0, 1, 3, 7, 9, 11, 12, 14, 15, 16, 17, 19, 20, 21]\n",
      "\t Length of selected features 14\n",
      "\n",
      "\n",
      "2\n",
      "\t list of Selected Features [0, 3, 6, 7, 8, 9, 11, 12, 13, 15, 17, 19, 20, 21]\n",
      "\t list of Selected Features later [0, 1, 3, 7, 9, 11, 12, 14, 15, 16, 17, 19, 20, 21]\n",
      "\t Length of selected features 14\n",
      "\n",
      "\n",
      "3\n",
      "\t list of Selected Features [0, 2, 3, 4, 6, 7, 8, 9, 11, 12, 13, 15, 17, 18, 19, 20, 21]\n",
      "\t list of Selected Features later [0, 1, 3, 7, 9, 11, 12, 14, 15, 16, 17, 19, 20, 21]\n",
      "\t Length of selected features 14\n",
      "\n",
      "\n",
      "4\n",
      "\t list of Selected Features [0, 2, 3, 4, 6, 7, 8, 11, 13, 15, 17, 18, 19, 20, 21]\n",
      "\t list of Selected Features later [0, 1, 3, 7, 9, 11, 12, 14, 15, 16, 17, 19, 20, 21]\n",
      "\t Length of selected features 14\n",
      "\n",
      "\n",
      "5\n",
      "\t list of Selected Features [0, 2, 3, 4, 6, 7, 8, 11, 13, 15, 17, 18, 19, 20, 21]\n",
      "\t list of Selected Features later [0, 1, 3, 7, 9, 11, 12, 14, 15, 16, 17, 19, 20, 21]\n",
      "\t Length of selected features 14\n",
      "\n",
      "\n",
      "6\n",
      "\t list of Selected Features [0, 2, 3, 4, 6, 7, 8, 11, 13, 15, 17, 18, 19, 21]\n",
      "\t list of Selected Features later [0, 1, 3, 7, 9, 11, 12, 14, 15, 16, 17, 19, 20, 21]\n",
      "\t Length of selected features 14\n",
      "\n",
      "\n",
      "7\n",
      "\t list of Selected Features [0, 2, 3, 4, 6, 7, 8, 11, 13, 15, 17, 18, 19, 21]\n",
      "\t list of Selected Features later [0, 1, 3, 7, 9, 11, 12, 14, 15, 16, 17, 19, 20, 21]\n",
      "\t Length of selected features 14\n",
      "\n",
      "\n",
      "8\n",
      "\t list of Selected Features [0, 2, 3, 4, 6, 7, 8, 11, 13, 15, 17, 18, 19, 21]\n",
      "\t list of Selected Features later [0, 1, 3, 7, 9, 11, 12, 14, 15, 16, 17, 19, 20, 21]\n",
      "\t Length of selected features 14\n",
      "\n",
      "\n",
      "9\n",
      "\t list of Selected Features [0, 2, 3, 4, 6, 7, 8, 11, 13, 15, 17, 18, 19, 21]\n",
      "\t list of Selected Features later [0, 1, 3, 7, 9, 11, 12, 14, 15, 16, 17, 19, 20, 21]\n",
      "\t Length of selected features 14\n"
     ]
    }
   ],
   "source": [
    "# initializing step\n",
    "tmax=10  # Maximum number of iterations (itermax)\n",
    "xn=pd.DataFrame(np.random.randint(2,size=(m,d)),columns=features)  # the position of the crow\n",
    "mem=pd.DataFrame(np.random.randint(2,size=(m,d)),columns=features)  # memory is initialized using the init function\n",
    "xnew=pd.DataFrame(xn)   # the positions of the crow\n",
    "ft=fitness(mem) # ft contains the fitness of current memory\n",
    "\n",
    "\n",
    "\n",
    "\n",
    "\n",
    "for t in range(tmax):   # no of iterations\n",
    "    print()\n",
    "    print()\n",
    "    print(t)\n",
    "    selected_features_temp,selected_features = [],[]\n",
    "    for i in range(m):   \n",
    "        num = random.randint(0,m-1)   # Generation of random candidate crows for following (chasing)\n",
    "        r= random.random()\n",
    "        if r >=Ap:\n",
    "            xnew.loc[i,:] = xn.loc[i,:]+fl*r*(mem.loc[num,:]-xn.loc[i,:]);# Generation of a new position for crow i (state 1)\n",
    "        else:\n",
    "            xnew.loc[i,:]=xnew.loc[i,:].apply(lambda lam:random.random())   # Generation of a new position for crow i (state 2)\n",
    "    xnew= 1/( 1 + np.exp(( xnew-0.9)  ))    #  formula to convert positions of each crow into 0 and 1\n",
    "    xnew=xnew.apply(lambda l:l>=random.random()).astype(int)\n",
    "    xn=pd.DataFrame(xnew)          # it is the updated binary position of each crow\n",
    "    #\n",
    "    for i in range(m):\n",
    "        count_no_of1=(mem.loc[i]==1).sum()\n",
    "        if count_no_of1>=d/2:\n",
    "            selected_features_temp.append(i)\n",
    "    print(\"\\t list of Selected Features\",selected_features_temp)\n",
    "    for i in range(m):\n",
    "        for j in list(features):\n",
    "            if xn.loc[i,j]==df.loc[i,j]:\n",
    "                mem.loc[i,j]=xn.loc[i,j]\n",
    "    ft_new=fitness(mem)\n",
    "    \n",
    "    if len(ft_new)<len(ft):\n",
    "        ft=ft_new\n",
    "    print(\"\\t list of Selected Features later\",ft)\n",
    "    print(\"\\t Length of selected features\",len(ft))"
   ]
  },
  {
   "cell_type": "code",
   "execution_count": 14,
   "metadata": {},
   "outputs": [
    {
     "name": "stdout",
     "output_type": "stream",
     "text": [
      "82.6086956521739\n",
      "4\n",
      "10\n",
      "14\n",
      "11\n",
      "11\n",
      "14\n"
     ]
    }
   ],
   "source": [
    "# accuracy= no of feature selected divided by total number of features multiplied by 100\n",
    "accuracy= len(ft)/m*100\n",
    "print (accuracy)\n",
    "\n",
    "#accuracy of each models\n",
    "for j in list(features):\n",
    "    accuracy_models,count =[],0\n",
    "    for i in range(m): \n",
    "        if mem.loc[i,j]==1 and i in selected_features_temp:\n",
    "            count=count +1\n",
    "        if i in selected_features_temp:\n",
    "            accuracy_models.append(i)\n",
    "    print(count)\n",
    "    "
   ]
  },
  {
   "cell_type": "code",
   "execution_count": 21,
   "metadata": {},
   "outputs": [
    {
     "data": {
      "text/plain": [
       "0.8695652173913043"
      ]
     },
     "execution_count": 21,
     "metadata": {},
     "output_type": "execute_result"
    }
   ],
   "source": [
    "20/23\n"
   ]
  },
  {
   "cell_type": "code",
   "execution_count": 22,
   "metadata": {},
   "outputs": [
    {
     "data": {
      "text/plain": [
       "0.8260869565217391"
      ]
     },
     "execution_count": 22,
     "metadata": {},
     "output_type": "execute_result"
    }
   ],
   "source": [
    "19/23"
   ]
  },
  {
   "cell_type": "code",
   "execution_count": 23,
   "metadata": {},
   "outputs": [
    {
     "data": {
      "text/plain": [
       "0.782608695652174"
      ]
     },
     "execution_count": 23,
     "metadata": {},
     "output_type": "execute_result"
    }
   ],
   "source": [
    "18/23"
   ]
  },
  {
   "cell_type": "code",
   "execution_count": 24,
   "metadata": {},
   "outputs": [
    {
     "data": {
      "text/plain": [
       "0.7391304347826086"
      ]
     },
     "execution_count": 24,
     "metadata": {},
     "output_type": "execute_result"
    }
   ],
   "source": [
    "17/23"
   ]
  },
  {
   "cell_type": "code",
   "execution_count": 25,
   "metadata": {},
   "outputs": [
    {
     "data": {
      "text/html": [
       "<div>\n",
       "<style>\n",
       "    .dataframe thead tr:only-child th {\n",
       "        text-align: right;\n",
       "    }\n",
       "\n",
       "    .dataframe thead th {\n",
       "        text-align: left;\n",
       "    }\n",
       "\n",
       "    .dataframe tbody tr th {\n",
       "        vertical-align: top;\n",
       "    }\n",
       "</style>\n",
       "<table border=\"1\" class=\"dataframe\">\n",
       "  <thead>\n",
       "    <tr style=\"text-align: right;\">\n",
       "      <th></th>\n",
       "      <th>0</th>\n",
       "      <th>1</th>\n",
       "      <th>2</th>\n",
       "      <th>3</th>\n",
       "      <th>4</th>\n",
       "      <th>5</th>\n",
       "    </tr>\n",
       "  </thead>\n",
       "  <tbody>\n",
       "    <tr>\n",
       "      <th>0</th>\n",
       "      <td>0</td>\n",
       "      <td>0</td>\n",
       "      <td>1</td>\n",
       "      <td>1</td>\n",
       "      <td>1</td>\n",
       "      <td>1</td>\n",
       "    </tr>\n",
       "    <tr>\n",
       "      <th>1</th>\n",
       "      <td>0</td>\n",
       "      <td>1</td>\n",
       "      <td>0</td>\n",
       "      <td>0</td>\n",
       "      <td>0</td>\n",
       "      <td>0</td>\n",
       "    </tr>\n",
       "    <tr>\n",
       "      <th>2</th>\n",
       "      <td>0</td>\n",
       "      <td>0</td>\n",
       "      <td>1</td>\n",
       "      <td>1</td>\n",
       "      <td>0</td>\n",
       "      <td>1</td>\n",
       "    </tr>\n",
       "    <tr>\n",
       "      <th>3</th>\n",
       "      <td>0</td>\n",
       "      <td>1</td>\n",
       "      <td>1</td>\n",
       "      <td>1</td>\n",
       "      <td>0</td>\n",
       "      <td>0</td>\n",
       "    </tr>\n",
       "    <tr>\n",
       "      <th>4</th>\n",
       "      <td>0</td>\n",
       "      <td>1</td>\n",
       "      <td>0</td>\n",
       "      <td>0</td>\n",
       "      <td>1</td>\n",
       "      <td>1</td>\n",
       "    </tr>\n",
       "    <tr>\n",
       "      <th>5</th>\n",
       "      <td>0</td>\n",
       "      <td>0</td>\n",
       "      <td>1</td>\n",
       "      <td>1</td>\n",
       "      <td>0</td>\n",
       "      <td>0</td>\n",
       "    </tr>\n",
       "    <tr>\n",
       "      <th>6</th>\n",
       "      <td>0</td>\n",
       "      <td>0</td>\n",
       "      <td>1</td>\n",
       "      <td>0</td>\n",
       "      <td>1</td>\n",
       "      <td>1</td>\n",
       "    </tr>\n",
       "    <tr>\n",
       "      <th>7</th>\n",
       "      <td>0</td>\n",
       "      <td>0</td>\n",
       "      <td>1</td>\n",
       "      <td>1</td>\n",
       "      <td>1</td>\n",
       "      <td>1</td>\n",
       "    </tr>\n",
       "    <tr>\n",
       "      <th>8</th>\n",
       "      <td>1</td>\n",
       "      <td>1</td>\n",
       "      <td>1</td>\n",
       "      <td>1</td>\n",
       "      <td>1</td>\n",
       "      <td>1</td>\n",
       "    </tr>\n",
       "    <tr>\n",
       "      <th>9</th>\n",
       "      <td>0</td>\n",
       "      <td>1</td>\n",
       "      <td>0</td>\n",
       "      <td>1</td>\n",
       "      <td>0</td>\n",
       "      <td>0</td>\n",
       "    </tr>\n",
       "    <tr>\n",
       "      <th>10</th>\n",
       "      <td>0</td>\n",
       "      <td>0</td>\n",
       "      <td>0</td>\n",
       "      <td>1</td>\n",
       "      <td>0</td>\n",
       "      <td>1</td>\n",
       "    </tr>\n",
       "    <tr>\n",
       "      <th>11</th>\n",
       "      <td>0</td>\n",
       "      <td>1</td>\n",
       "      <td>1</td>\n",
       "      <td>0</td>\n",
       "      <td>0</td>\n",
       "      <td>1</td>\n",
       "    </tr>\n",
       "    <tr>\n",
       "      <th>12</th>\n",
       "      <td>1</td>\n",
       "      <td>1</td>\n",
       "      <td>0</td>\n",
       "      <td>0</td>\n",
       "      <td>0</td>\n",
       "      <td>0</td>\n",
       "    </tr>\n",
       "    <tr>\n",
       "      <th>13</th>\n",
       "      <td>0</td>\n",
       "      <td>1</td>\n",
       "      <td>1</td>\n",
       "      <td>1</td>\n",
       "      <td>1</td>\n",
       "      <td>1</td>\n",
       "    </tr>\n",
       "    <tr>\n",
       "      <th>14</th>\n",
       "      <td>0</td>\n",
       "      <td>0</td>\n",
       "      <td>1</td>\n",
       "      <td>0</td>\n",
       "      <td>0</td>\n",
       "      <td>1</td>\n",
       "    </tr>\n",
       "    <tr>\n",
       "      <th>15</th>\n",
       "      <td>0</td>\n",
       "      <td>0</td>\n",
       "      <td>1</td>\n",
       "      <td>0</td>\n",
       "      <td>1</td>\n",
       "      <td>1</td>\n",
       "    </tr>\n",
       "    <tr>\n",
       "      <th>16</th>\n",
       "      <td>0</td>\n",
       "      <td>0</td>\n",
       "      <td>1</td>\n",
       "      <td>0</td>\n",
       "      <td>0</td>\n",
       "      <td>1</td>\n",
       "    </tr>\n",
       "    <tr>\n",
       "      <th>17</th>\n",
       "      <td>1</td>\n",
       "      <td>1</td>\n",
       "      <td>1</td>\n",
       "      <td>1</td>\n",
       "      <td>1</td>\n",
       "      <td>1</td>\n",
       "    </tr>\n",
       "    <tr>\n",
       "      <th>18</th>\n",
       "      <td>0</td>\n",
       "      <td>0</td>\n",
       "      <td>0</td>\n",
       "      <td>1</td>\n",
       "      <td>1</td>\n",
       "      <td>1</td>\n",
       "    </tr>\n",
       "    <tr>\n",
       "      <th>19</th>\n",
       "      <td>1</td>\n",
       "      <td>1</td>\n",
       "      <td>0</td>\n",
       "      <td>1</td>\n",
       "      <td>1</td>\n",
       "      <td>0</td>\n",
       "    </tr>\n",
       "    <tr>\n",
       "      <th>20</th>\n",
       "      <td>0</td>\n",
       "      <td>0</td>\n",
       "      <td>0</td>\n",
       "      <td>0</td>\n",
       "      <td>1</td>\n",
       "      <td>1</td>\n",
       "    </tr>\n",
       "    <tr>\n",
       "      <th>21</th>\n",
       "      <td>0</td>\n",
       "      <td>1</td>\n",
       "      <td>1</td>\n",
       "      <td>1</td>\n",
       "      <td>1</td>\n",
       "      <td>1</td>\n",
       "    </tr>\n",
       "    <tr>\n",
       "      <th>22</th>\n",
       "      <td>0</td>\n",
       "      <td>0</td>\n",
       "      <td>0</td>\n",
       "      <td>0</td>\n",
       "      <td>1</td>\n",
       "      <td>1</td>\n",
       "    </tr>\n",
       "  </tbody>\n",
       "</table>\n",
       "</div>"
      ],
      "text/plain": [
       "    0  1  2  3  4  5\n",
       "0   0  0  1  1  1  1\n",
       "1   0  1  0  0  0  0\n",
       "2   0  0  1  1  0  1\n",
       "3   0  1  1  1  0  0\n",
       "4   0  1  0  0  1  1\n",
       "5   0  0  1  1  0  0\n",
       "6   0  0  1  0  1  1\n",
       "7   0  0  1  1  1  1\n",
       "8   1  1  1  1  1  1\n",
       "9   0  1  0  1  0  0\n",
       "10  0  0  0  1  0  1\n",
       "11  0  1  1  0  0  1\n",
       "12  1  1  0  0  0  0\n",
       "13  0  1  1  1  1  1\n",
       "14  0  0  1  0  0  1\n",
       "15  0  0  1  0  1  1\n",
       "16  0  0  1  0  0  1\n",
       "17  1  1  1  1  1  1\n",
       "18  0  0  0  1  1  1\n",
       "19  1  1  0  1  1  0\n",
       "20  0  0  0  0  1  1\n",
       "21  0  1  1  1  1  1\n",
       "22  0  0  0  0  1  1"
      ]
     },
     "execution_count": 25,
     "metadata": {},
     "output_type": "execute_result"
    }
   ],
   "source": [
    "df"
   ]
  },
  {
   "cell_type": "code",
   "execution_count": null,
   "metadata": {
    "collapsed": true
   },
   "outputs": [],
   "source": []
  }
 ],
 "metadata": {
  "kernelspec": {
   "display_name": "Python 3",
   "language": "python",
   "name": "python3"
  },
  "language_info": {
   "codemirror_mode": {
    "name": "ipython",
    "version": 3
   },
   "file_extension": ".py",
   "mimetype": "text/x-python",
   "name": "python",
   "nbconvert_exporter": "python",
   "pygments_lexer": "ipython3",
   "version": "3.6.3"
  }
 },
 "nbformat": 4,
 "nbformat_minor": 1
}
